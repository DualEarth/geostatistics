{
 "cells": [
  {
   "cell_type": "code",
   "execution_count": 1,
   "metadata": {},
   "outputs": [],
   "source": [
    "import numpy as np\n",
    "from scipy.stats import norm"
   ]
  },
  {
   "cell_type": "code",
   "execution_count": 2,
   "metadata": {},
   "outputs": [
    {
     "name": "stdout",
     "output_type": "stream",
     "text": [
      "the true probabilities are: [0.125 0.125 0.125 0.125 0.375 0.125]\n",
      "True expected value of the die: 3.88\n"
     ]
    }
   ],
   "source": [
    "\n",
    "# Set a random seed for reproducibility\n",
    "np.random.seed(42)\n",
    "# Represent the die:\n",
    "dice_faces = np.array([1, 2, 3, 4, 5, 6])\n",
    "# Initialize the probabilities of each face of the die\n",
    "probabilities = np.array([1, 1, 1, 1, 3, 1])\n",
    "probabilities = probabilities / probabilities.sum()  # Normalize\n",
    "print(\"the true probabilities are:\", probabilities)\n",
    "# Calculate the true expected value based on initialized probabilities\n",
    "true_expected_value = np.sum(probabilities * dice_faces)\n",
    "print(\"True expected value of the die:\", round(true_expected_value, 2))"
   ]
  },
  {
   "cell_type": "code",
   "execution_count": 5,
   "metadata": {},
   "outputs": [],
   "source": [
    "# Function to simulate rolling the biased die\n",
    "def roll_die(probabilities, num_rolls=100):\n",
    "    return np.random.choice(dice_faces, size=num_rolls, p=probabilities)\n",
    "\n",
    "# Function to perform the E-step\n",
    "def expectation(rolls):\n",
    "    counts = np.zeros(6)\n",
    "    for value in rolls:\n",
    "        counts[value - 1] += 1\n",
    "    return counts / len(rolls)\n",
    "\n",
    "# Function to perform the M-step\n",
    "def maximization(expected_frequencies):\n",
    "    return expected_frequencies / expected_frequencies.sum()\n"
   ]
  },
  {
   "cell_type": "code",
   "execution_count": 4,
   "metadata": {},
   "outputs": [
    {
     "name": "stdout",
     "output_type": "stream",
     "text": [
      "Final estimated probabilities: [0.1253  0.12516 0.12551 0.12337 0.37754 0.12312]\n",
      "Final expected value of the die: 3.87\n"
     ]
    }
   ],
   "source": [
    "# Simulate rolling the die\n",
    "rolls = roll_die(probabilities)\n",
    "\n",
    "# EM algorithm with hypothesis testing for convergence\n",
    "expected_values = []\n",
    "\n",
    "for _ in range(100):  # Max iterations\n",
    "    expected_frequencies = expectation(rolls)\n",
    "    probabilities = maximization(expected_frequencies)\n",
    "    expected_value = np.sum(probabilities * dice_faces)\n",
    "    expected_values.append(expected_value)\n",
    "    \n",
    "    if len(expected_values) > 1:\n",
    "        # Calculate change in expected value and perform z-test\n",
    "        change = expected_values[-1] - expected_values[-2]\n",
    "        if len(expected_values) > 2:\n",
    "            mean_change = np.mean(np.diff(expected_values))\n",
    "            std_change = np.std(np.diff(expected_values), ddof=1)\n",
    "            if std_change > 0:\n",
    "                z_score = mean_change / (std_change / np.sqrt(len(expected_values) - 1))\n",
    "                p_value = 2 * norm.sf(abs(z_score))  # Two-tailed test\n",
    "                \n",
    "                # Stop if p-value is above 0.05, indicating stabilization\n",
    "                if p_value > 0.05:\n",
    "                    print(f\"Algorithm stops after {_+1} iterations with a p-value of {p_value:.4f}\")\n",
    "                    break\n",
    "\n",
    "print(\"Final estimated probabilities:\", probabilities)\n",
    "print(\"Final expected value of the die:\", round(expected_value, 2))"
   ]
  },
  {
   "cell_type": "code",
   "execution_count": null,
   "metadata": {},
   "outputs": [],
   "source": []
  }
 ],
 "metadata": {
  "kernelspec": {
   "display_name": "base",
   "language": "python",
   "name": "python3"
  },
  "language_info": {
   "codemirror_mode": {
    "name": "ipython",
    "version": 3
   },
   "file_extension": ".py",
   "mimetype": "text/x-python",
   "name": "python",
   "nbconvert_exporter": "python",
   "pygments_lexer": "ipython3",
   "version": "3.12.4"
  }
 },
 "nbformat": 4,
 "nbformat_minor": 2
}
