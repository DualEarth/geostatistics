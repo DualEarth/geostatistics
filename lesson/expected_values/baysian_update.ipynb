{
 "cells": [
  {
   "cell_type": "code",
   "execution_count": 1,
   "metadata": {},
   "outputs": [
    {
     "name": "stdout",
     "output_type": "stream",
     "text": [
      "Posterior expected value of the die: 3.66\n"
     ]
    }
   ],
   "source": [
    "import numpy as np\n",
    "from scipy.stats import dirichlet\n",
    "\n",
    "# Seed for reproducibility\n",
    "np.random.seed(42)\n",
    "\n",
    "# Set the initial alpha parameters for the Dirichlet distribution (uniform prior)\n",
    "alpha_prior = np.array([1, 1, 1, 1, 1, 1])  # Uniform prior\n",
    "\n",
    "# Simulate rolling the die\n",
    "num_rolls = 100\n",
    "true_probabilities = np.array([1, 1, 1, 1, 3, 1]) / 8  # Slightly biased towards 5\n",
    "rolls = np.random.choice([1, 2, 3, 4, 5, 6], size=num_rolls, p=true_probabilities)\n",
    "\n",
    "# Convert rolls to count format for updating\n",
    "roll_counts = np.array([np.sum(rolls == i) for i in range(1, 7)])\n",
    "\n",
    "# Update the alpha parameters based on observed rolls (Bayesian updating)\n",
    "alpha_posterior = alpha_prior + roll_counts\n",
    "\n",
    "# Sample from the posterior distribution\n",
    "posterior_samples = dirichlet.rvs(alpha_posterior, size=10000)\n",
    "\n",
    "# Calculate the posterior expected value of the die\n",
    "posterior_expected_values = np.sum(posterior_samples * np.array([1, 2, 3, 4, 5, 6]), axis=1)\n",
    "mean_posterior_expected_value = np.mean(posterior_expected_values)\n",
    "\n",
    "print(\"Posterior expected value of the die:\", round(mean_posterior_expected_value, 2))"
   ]
  }
 ],
 "metadata": {
  "kernelspec": {
   "display_name": "base",
   "language": "python",
   "name": "python3"
  },
  "language_info": {
   "codemirror_mode": {
    "name": "ipython",
    "version": 3
   },
   "file_extension": ".py",
   "mimetype": "text/x-python",
   "name": "python",
   "nbconvert_exporter": "python",
   "pygments_lexer": "ipython3",
   "version": "3.12.4"
  }
 },
 "nbformat": 4,
 "nbformat_minor": 2
}
